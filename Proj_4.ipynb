{
  "nbformat": 4,
  "nbformat_minor": 0,
  "metadata": {
    "colab": {
      "provenance": []
    },
    "kernelspec": {
      "name": "python3",
      "display_name": "Python 3"
    },
    "language_info": {
      "name": "python"
    }
  },
  "cells": [
    {
      "cell_type": "markdown",
      "source": [
        "# Simulation of Brownian Motion using GBM"
      ],
      "metadata": {
        "id": "OCxkTulxk8bz"
      }
    },
    {
      "cell_type": "markdown",
      "source": [
        "# Abstract"
      ],
      "metadata": {
        "id": "N5MwEA3uab3-"
      }
    },
    {
      "cell_type": "markdown",
      "source": [],
      "metadata": {
        "id": "0www1J0mFpTG"
      }
    },
    {
      "cell_type": "markdown",
      "source": [
        "# Physical System and Model"
      ],
      "metadata": {
        "id": "Ocd0kG7yaeQn"
      }
    },
    {
      "cell_type": "markdown",
      "source": [
        "## Brownian Motion"
      ],
      "metadata": {
        "id": "es0S7gu1GJET"
      }
    },
    {
      "cell_type": "markdown",
      "source": [
        "## Diffusion Equation\n",
        "\n",
        "$$\\frac{\\partial \\phi}{\\partial t}(\\vec{r},t) = \\nabla \\cdot [D(\\vec{r},\\phi) \\nabla \\phi(\\vec{r},t)]$$"
      ],
      "metadata": {
        "id": "itMjZQlNFrVP"
      }
    },
    {
      "cell_type": "markdown",
      "source": [
        "## Lattice Random Walk"
      ],
      "metadata": {
        "id": "z5d-BbHlGLrR"
      }
    },
    {
      "cell_type": "markdown",
      "source": [
        "# Algorithms"
      ],
      "metadata": {
        "id": "q4TgEDkAayJ4"
      }
    },
    {
      "cell_type": "code",
      "source": [],
      "metadata": {
        "id": "UCzDGH5fa0K9"
      },
      "execution_count": null,
      "outputs": []
    },
    {
      "cell_type": "markdown",
      "source": [
        "# Code Breakdown"
      ],
      "metadata": {
        "id": "-rh8-LHPa0jD"
      }
    },
    {
      "cell_type": "code",
      "source": [],
      "metadata": {
        "id": "ZU8XHGfea3-C"
      },
      "execution_count": null,
      "outputs": []
    },
    {
      "cell_type": "markdown",
      "source": [
        "# Results"
      ],
      "metadata": {
        "id": "3Qcn6l17a4QK"
      }
    },
    {
      "cell_type": "code",
      "source": [],
      "metadata": {
        "id": "chg-syillI9o"
      },
      "execution_count": null,
      "outputs": []
    },
    {
      "cell_type": "markdown",
      "source": [
        "# References"
      ],
      "metadata": {
        "id": "hcVD2JNja51F"
      }
    },
    {
      "cell_type": "markdown",
      "source": [
        "* https://experimentationlab.berkeley.edu/node/83\n",
        "* $\\text{Einstein, A. (1906). } \\textit{On the theory of the Brownian movement} \\text{. Ann. Phys, 19(4), 371-381.}$\n",
        "* $\\text{Sigman, K. (2013). } \\textit{Simulating Brownian motion}\\\\\n",
        "\\textit{ (BM) and geometric Brownian motion (GBM)} \\text{. Ann. Phys, 19(4), 371-381.}$\n",
        "* https://en.wikipedia.org/wiki/Diffusion_equation"
      ],
      "metadata": {
        "id": "Yi6okTBO8LnU"
      }
    }
  ]
}